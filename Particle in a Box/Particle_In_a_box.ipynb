{
 "cells": [
  {
   "cell_type": "code",
   "execution_count": 1,
   "metadata": {},
   "outputs": [
    {
     "name": "stdout",
     "output_type": "stream",
     "text": [
      "The ground state energy for this particle in this potential energy well is equal to 2.20498146592e-17 Joules\n"
     ]
    }
   ],
   "source": [
    "import numpy as np\n",
    "\n",
    "#declare constants:\n",
    "em = 9.109*10**-31 #mass of electron in kilogram\n",
    "eq = 1.602*10**-19 #charge of electron\n",
    "l = 1*10**-10 #width of well in meter\n",
    "hbar = 1.055*10**-34 #Reduced Planck constant\n",
    "vx = 100*eq #potential inside well.\n",
    "n = 1000 \n",
    "h = l/n\n",
    "\n",
    "\n",
    "#I have transformed the second order differential form of Schroedinger\n",
    "#into first order differential and store in arrays.\n",
    "def f(r,x,E):\n",
    "    psi = r[0]\n",
    "    phi = r[1]\n",
    "    dpsi = phi\n",
    "    dphi = (2*em/hbar**2)*(vx-E)*psi\n",
    "    return np.array([dpsi,dphi],float)\n",
    "\n",
    "\n",
    "#Solve wave equation for a specific energy using RK4.\n",
    "def solve(E):\n",
    "    psi = 0.0\n",
    "    phi = 1.0\n",
    "    r = np.array([psi,phi],float)\n",
    "    for x in np.arange(0,l,h):\n",
    "        k1 = h*f(r,x,E)\n",
    "        k2 = h*f(r+0.5*k1,x+0.5*h,E)\n",
    "        k3 = h*f(r+0.5*k2,x+0.5*h,E)\n",
    "        k4 = h*f(r+k3,x+h,E)\n",
    "        r += (k1+2*k2+2*k3+k4)/6\n",
    "        \n",
    "    return r[0]\n",
    "\n",
    "\n",
    "#Execute Secant method to find the energy / varying energy until psi=0 at L\n",
    "E1=0.0\n",
    "E2 = eq\n",
    "psi2 = solve(E1)\n",
    "\n",
    "target = eq/1000\n",
    "while abs(E1-E2)>target:\n",
    "    psi1,psi2 = psi2,solve(E2)\n",
    "    E1,E2 = E2,E2-psi2*(E2-E1)/(psi2-psi1)\n",
    "    \n",
    "\n",
    "print (\"The ground state energy for this particle in this potential energy well is equal to\", E2,\"Joules\")\n",
    "\n"
   ]
  },
  {
   "cell_type": "code",
   "execution_count": null,
   "metadata": {
    "collapsed": true
   },
   "outputs": [],
   "source": []
  }
 ],
 "metadata": {
  "kernelspec": {
   "display_name": "Python 3",
   "language": "python",
   "name": "python3"
  },
  "language_info": {
   "codemirror_mode": {
    "name": "ipython",
    "version": 3
   },
   "file_extension": ".py",
   "mimetype": "text/x-python",
   "name": "python",
   "nbconvert_exporter": "python",
   "pygments_lexer": "ipython3",
   "version": "3.6.3"
  }
 },
 "nbformat": 4,
 "nbformat_minor": 2
}
